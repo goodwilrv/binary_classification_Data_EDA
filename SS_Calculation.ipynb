{
 "cells": [
  {
   "cell_type": "code",
   "execution_count": 88,
   "metadata": {},
   "outputs": [],
   "source": [
    "## Author Gautam Kumar, Senior Data Scientist, MFTBC, Tokyo.\n",
    "\n",
    "import pandas as pd\n",
    "import numpy as np\n",
    "import os\n",
    "from numpy import loadtxt\n",
    "from xgboost import XGBClassifier\n",
    "from matplotlib import pyplot"
   ]
  },
  {
   "cell_type": "code",
   "execution_count": 89,
   "metadata": {},
   "outputs": [],
   "source": [
    "working_dir = \"C:\\\\Users\\\\Dell 3450\\\\Desktop\\\\LnT_Documents\\\\Smart_Steel_Assignement\\\\task\\\\task\\\\\"\n",
    "os.chdir(working_dir)\n",
    "task_df = pd.read_csv(\"task_data.csv\")"
   ]
  },
  {
   "cell_type": "code",
   "execution_count": 90,
   "metadata": {},
   "outputs": [
    {
     "data": {
      "text/plain": [
       "['sample index',\n",
       " 'class_label',\n",
       " 'sensor0',\n",
       " 'sensor1',\n",
       " 'sensor2',\n",
       " 'sensor3',\n",
       " 'sensor4',\n",
       " 'sensor5',\n",
       " 'sensor6',\n",
       " 'sensor7',\n",
       " 'sensor8',\n",
       " 'sensor9']"
      ]
     },
     "execution_count": 90,
     "metadata": {},
     "output_type": "execute_result"
    }
   ],
   "source": [
    "list(task_df)"
   ]
  },
  {
   "cell_type": "markdown",
   "metadata": {},
   "source": [
    "Now, After reading the data sheet into data frame, first task will be to do an exploratory data analysis on it,\n",
    "1.) Look for Missing data.\n",
    "2.) Look at the data types for explanatory variables.\n",
    "2.) Look if its a balanced data or not.\n",
    "3.) Check the basic centrality and dispersion characteristics, statistics of all the columns.\n",
    "4.) See the probability distributions of explanatory variables\n",
    "5.) Correlation between the explanatory variables.\n"
   ]
  },
  {
   "cell_type": "code",
   "execution_count": 91,
   "metadata": {},
   "outputs": [
    {
     "data": {
      "text/html": [
       "<div>\n",
       "<style scoped>\n",
       "    .dataframe tbody tr th:only-of-type {\n",
       "        vertical-align: middle;\n",
       "    }\n",
       "\n",
       "    .dataframe tbody tr th {\n",
       "        vertical-align: top;\n",
       "    }\n",
       "\n",
       "    .dataframe thead th {\n",
       "        text-align: right;\n",
       "    }\n",
       "</style>\n",
       "<table border=\"1\" class=\"dataframe\">\n",
       "  <thead>\n",
       "    <tr style=\"text-align: right;\">\n",
       "      <th></th>\n",
       "      <th>class_label</th>\n",
       "      <th>Percentage</th>\n",
       "    </tr>\n",
       "  </thead>\n",
       "  <tbody>\n",
       "    <tr>\n",
       "      <th>0</th>\n",
       "      <td>-1.0</td>\n",
       "      <td>0.5</td>\n",
       "    </tr>\n",
       "    <tr>\n",
       "      <th>1</th>\n",
       "      <td>1.0</td>\n",
       "      <td>0.5</td>\n",
       "    </tr>\n",
       "  </tbody>\n",
       "</table>\n",
       "</div>"
      ],
      "text/plain": [
       "   class_label  Percentage\n",
       "0         -1.0         0.5\n",
       "1          1.0         0.5"
      ]
     },
     "execution_count": 91,
     "metadata": {},
     "output_type": "execute_result"
    }
   ],
   "source": [
    "## Check the balance of both cancer type category in terms of no. of observations. This is to check if the given data is skewed towards one category.\n",
    "task_df.class_label.value_counts(normalize=True).reset_index().rename(index=str,columns={'index':'class_label','class_label':'Percentage'})\n",
    "    \n",
    "    "
   ]
  },
  {
   "cell_type": "markdown",
   "metadata": {},
   "source": [
    "We See here that, both categories of the data has same number of rows. So its NOT a skewed/Unbalanced data set."
   ]
  },
  {
   "cell_type": "code",
   "execution_count": 92,
   "metadata": {},
   "outputs": [
    {
     "data": {
      "text/plain": [
       "sample index    0.0\n",
       "class_label     0.0\n",
       "sensor0         0.0\n",
       "sensor1         0.0\n",
       "sensor2         0.0\n",
       "sensor3         0.0\n",
       "sensor4         0.0\n",
       "sensor5         0.0\n",
       "sensor6         0.0\n",
       "sensor7         0.0\n",
       "sensor8         0.0\n",
       "sensor9         0.0\n",
       "dtype: float64"
      ]
     },
     "execution_count": 92,
     "metadata": {},
     "output_type": "execute_result"
    }
   ],
   "source": [
    "## Check the mission percentage\n",
    "percent_missing = task_df.isnull().sum() * 100 / len(task_df)\n",
    "##percent_missing_test = final_test_data_df.isnull().sum() * 100 / len(final_test_data_df)\n",
    "percent_missing"
   ]
  },
  {
   "cell_type": "markdown",
   "metadata": {},
   "source": [
    "As we see above, there is no missing dara in the columns. So its really good data to work at."
   ]
  },
  {
   "cell_type": "code",
   "execution_count": 93,
   "metadata": {},
   "outputs": [
    {
     "name": "stdout",
     "output_type": "stream",
     "text": [
      "<class 'pandas.core.frame.DataFrame'>\n",
      "RangeIndex: 400 entries, 0 to 399\n",
      "Data columns (total 12 columns):\n",
      "sample index    400 non-null object\n",
      "class_label     400 non-null float64\n",
      "sensor0         400 non-null float64\n",
      "sensor1         400 non-null float64\n",
      "sensor2         400 non-null float64\n",
      "sensor3         400 non-null float64\n",
      "sensor4         400 non-null float64\n",
      "sensor5         400 non-null float64\n",
      "sensor6         400 non-null float64\n",
      "sensor7         400 non-null float64\n",
      "sensor8         400 non-null float64\n",
      "sensor9         400 non-null float64\n",
      "dtypes: float64(11), object(1)\n",
      "memory usage: 37.6+ KB\n"
     ]
    }
   ],
   "source": [
    "## Look at the data types for explanatory variables.\n",
    "task_df.info()"
   ]
  },
  {
   "cell_type": "code",
   "execution_count": 94,
   "metadata": {},
   "outputs": [
    {
     "data": {
      "text/html": [
       "<div>\n",
       "<style scoped>\n",
       "    .dataframe tbody tr th:only-of-type {\n",
       "        vertical-align: middle;\n",
       "    }\n",
       "\n",
       "    .dataframe tbody tr th {\n",
       "        vertical-align: top;\n",
       "    }\n",
       "\n",
       "    .dataframe thead th {\n",
       "        text-align: right;\n",
       "    }\n",
       "</style>\n",
       "<table border=\"1\" class=\"dataframe\">\n",
       "  <thead>\n",
       "    <tr style=\"text-align: right;\">\n",
       "      <th></th>\n",
       "      <th>class_label</th>\n",
       "      <th>sensor0</th>\n",
       "      <th>sensor1</th>\n",
       "      <th>sensor2</th>\n",
       "      <th>sensor3</th>\n",
       "      <th>sensor4</th>\n",
       "      <th>sensor5</th>\n",
       "      <th>sensor6</th>\n",
       "      <th>sensor7</th>\n",
       "      <th>sensor8</th>\n",
       "      <th>sensor9</th>\n",
       "    </tr>\n",
       "  </thead>\n",
       "  <tbody>\n",
       "    <tr>\n",
       "      <th>count</th>\n",
       "      <td>400.000000</td>\n",
       "      <td>400.000000</td>\n",
       "      <td>400.000000</td>\n",
       "      <td>400.000000</td>\n",
       "      <td>400.000000</td>\n",
       "      <td>400.000000</td>\n",
       "      <td>400.000000</td>\n",
       "      <td>400.000000</td>\n",
       "      <td>400.000000</td>\n",
       "      <td>400.000000</td>\n",
       "      <td>400.000000</td>\n",
       "    </tr>\n",
       "    <tr>\n",
       "      <th>mean</th>\n",
       "      <td>0.000000</td>\n",
       "      <td>0.523661</td>\n",
       "      <td>0.509223</td>\n",
       "      <td>0.481238</td>\n",
       "      <td>0.509752</td>\n",
       "      <td>0.497875</td>\n",
       "      <td>0.501065</td>\n",
       "      <td>0.490480</td>\n",
       "      <td>0.482372</td>\n",
       "      <td>0.482822</td>\n",
       "      <td>0.541933</td>\n",
       "    </tr>\n",
       "    <tr>\n",
       "      <th>std</th>\n",
       "      <td>1.001252</td>\n",
       "      <td>0.268194</td>\n",
       "      <td>0.276878</td>\n",
       "      <td>0.287584</td>\n",
       "      <td>0.297712</td>\n",
       "      <td>0.288208</td>\n",
       "      <td>0.287634</td>\n",
       "      <td>0.289954</td>\n",
       "      <td>0.282714</td>\n",
       "      <td>0.296180</td>\n",
       "      <td>0.272490</td>\n",
       "    </tr>\n",
       "    <tr>\n",
       "      <th>min</th>\n",
       "      <td>-1.000000</td>\n",
       "      <td>0.007775</td>\n",
       "      <td>0.003865</td>\n",
       "      <td>0.004473</td>\n",
       "      <td>0.001466</td>\n",
       "      <td>0.000250</td>\n",
       "      <td>0.000425</td>\n",
       "      <td>0.000173</td>\n",
       "      <td>0.003322</td>\n",
       "      <td>0.003165</td>\n",
       "      <td>0.000452</td>\n",
       "    </tr>\n",
       "    <tr>\n",
       "      <th>25%</th>\n",
       "      <td>-1.000000</td>\n",
       "      <td>0.299792</td>\n",
       "      <td>0.283004</td>\n",
       "      <td>0.235544</td>\n",
       "      <td>0.262697</td>\n",
       "      <td>0.249369</td>\n",
       "      <td>0.269430</td>\n",
       "      <td>0.226687</td>\n",
       "      <td>0.242848</td>\n",
       "      <td>0.213626</td>\n",
       "      <td>0.321264</td>\n",
       "    </tr>\n",
       "    <tr>\n",
       "      <th>50%</th>\n",
       "      <td>0.000000</td>\n",
       "      <td>0.534906</td>\n",
       "      <td>0.507583</td>\n",
       "      <td>0.460241</td>\n",
       "      <td>0.510066</td>\n",
       "      <td>0.497842</td>\n",
       "      <td>0.497108</td>\n",
       "      <td>0.477341</td>\n",
       "      <td>0.463438</td>\n",
       "      <td>0.462251</td>\n",
       "      <td>0.578389</td>\n",
       "    </tr>\n",
       "    <tr>\n",
       "      <th>75%</th>\n",
       "      <td>1.000000</td>\n",
       "      <td>0.751887</td>\n",
       "      <td>0.727843</td>\n",
       "      <td>0.734937</td>\n",
       "      <td>0.768975</td>\n",
       "      <td>0.743401</td>\n",
       "      <td>0.738854</td>\n",
       "      <td>0.735304</td>\n",
       "      <td>0.732483</td>\n",
       "      <td>0.740542</td>\n",
       "      <td>0.768990</td>\n",
       "    </tr>\n",
       "    <tr>\n",
       "      <th>max</th>\n",
       "      <td>1.000000</td>\n",
       "      <td>0.999476</td>\n",
       "      <td>0.998680</td>\n",
       "      <td>0.992963</td>\n",
       "      <td>0.995119</td>\n",
       "      <td>0.999412</td>\n",
       "      <td>0.997367</td>\n",
       "      <td>0.997141</td>\n",
       "      <td>0.998230</td>\n",
       "      <td>0.996098</td>\n",
       "      <td>0.999465</td>\n",
       "    </tr>\n",
       "  </tbody>\n",
       "</table>\n",
       "</div>"
      ],
      "text/plain": [
       "       class_label     sensor0     sensor1     sensor2     sensor3  \\\n",
       "count   400.000000  400.000000  400.000000  400.000000  400.000000   \n",
       "mean      0.000000    0.523661    0.509223    0.481238    0.509752   \n",
       "std       1.001252    0.268194    0.276878    0.287584    0.297712   \n",
       "min      -1.000000    0.007775    0.003865    0.004473    0.001466   \n",
       "25%      -1.000000    0.299792    0.283004    0.235544    0.262697   \n",
       "50%       0.000000    0.534906    0.507583    0.460241    0.510066   \n",
       "75%       1.000000    0.751887    0.727843    0.734937    0.768975   \n",
       "max       1.000000    0.999476    0.998680    0.992963    0.995119   \n",
       "\n",
       "          sensor4     sensor5     sensor6     sensor7     sensor8     sensor9  \n",
       "count  400.000000  400.000000  400.000000  400.000000  400.000000  400.000000  \n",
       "mean     0.497875    0.501065    0.490480    0.482372    0.482822    0.541933  \n",
       "std      0.288208    0.287634    0.289954    0.282714    0.296180    0.272490  \n",
       "min      0.000250    0.000425    0.000173    0.003322    0.003165    0.000452  \n",
       "25%      0.249369    0.269430    0.226687    0.242848    0.213626    0.321264  \n",
       "50%      0.497842    0.497108    0.477341    0.463438    0.462251    0.578389  \n",
       "75%      0.743401    0.738854    0.735304    0.732483    0.740542    0.768990  \n",
       "max      0.999412    0.997367    0.997141    0.998230    0.996098    0.999465  "
      ]
     },
     "execution_count": 94,
     "metadata": {},
     "output_type": "execute_result"
    }
   ],
   "source": [
    "task_df.describe()"
   ]
  },
  {
   "cell_type": "code",
   "execution_count": 95,
   "metadata": {
    "scrolled": true
   },
   "outputs": [
    {
     "data": {
      "image/png": "[encoded data removed]",
      "text/plain": [
       "<matplotlib.figure.Figure at 0x24d1dfd5da0>"
      ]
     },
     "metadata": {},
     "output_type": "display_data"
    }
   ],
   "source": [
    "import matplotlib.pyplot as plt\n",
    "\n",
    "def plotBoxPlotsByClassType(x_df,cType):\n",
    "    if(cType == 'class_label'):\n",
    "         x_df[['sensor0','sensor1','sensor2','sensor3','sensor4','sensor5','sensor6','sensor7','sensor8','sensor9','class_label']].boxplot(by='class_label')\n",
    "        \n",
    "         \n",
    "#     elif(cType=='explanatory_vars'):\n",
    "#          temp_df = x_df.drop(['cancer_type','diagnose_date','treatment_date'],axis=1)\n",
    "#          temp_df.boxplot()\n",
    "#          plt.xticks(rotation=90)\n",
    "\n",
    "            \n",
    "plotBoxPlotsByClassType(task_df,'class_label')"
   ]
  },
  {
   "cell_type": "markdown",
   "metadata": {},
   "source": [
    "the box plots above show that broadly sensor0,sensor4, sensor3,sensor8 are clearly important in deciding the class label as , for these sensors values are almost disjoint (they have exclusive ranges for two values of the class label).\n"
   ]
  },
  {
   "cell_type": "code",
   "execution_count": 96,
   "metadata": {},
   "outputs": [
    {
     "name": "stdout",
     "output_type": "stream",
     "text": [
      "['sensor0', 'sensor1', 'sensor2', 'sensor3', 'sensor4', 'sensor5', 'sensor6', 'sensor7', 'sensor8', 'sensor9']\n"
     ]
    },
    {
     "data": {
      "image/png": "[encoded data removed]",
      "text/plain": [
       "<matplotlib.figure.Figure at 0x24d1c837dd8>"
      ]
     },
     "metadata": {},
     "output_type": "display_data"
    },
    {
     "data": {
      "image/png": "[encoded data removed]",
      "text/plain": [
       "<matplotlib.figure.Figure at 0x24d1cbf9748>"
      ]
     },
     "metadata": {},
     "output_type": "display_data"
    },
    {
     "data": {
      "image/png": "[encoded data removed]",
      "text/plain": [
       "<matplotlib.figure.Figure at 0x24d1c5342e8>"
      ]
     },
     "metadata": {},
     "output_type": "display_data"
    },
    {
     "data": {
      "image/png": "[encoded data removed]",
      "text/plain": [
       "<matplotlib.figure.Figure at 0x24d1cb9abe0>"
      ]
     },
     "metadata": {},
     "output_type": "display_data"
    },
    {
     "data": {
      "image/png": "[encoded data removed]",
      "text/plain": [
       "<matplotlib.figure.Figure at 0x24d1c646400>"
      ]
     },
     "metadata": {},
     "output_type": "display_data"
    },
    {
     "data": {
      "image/png": "[encoded data removed]",
      "text/plain": [
       "<matplotlib.figure.Figure at 0x24d1c31dc18>"
      ]
     },
     "metadata": {},
     "output_type": "display_data"
    },
    {
     "data": {
      "image/png": "[encoded data removed]",
      "text/plain": [
       "<matplotlib.figure.Figure at 0x24d1e033860>"
      ]
     },
     "metadata": {},
     "output_type": "display_data"
    },
    {
     "data": {
      "image/png": "[encoded data removed]",
      "text/plain": [
       "<matplotlib.figure.Figure at 0x24d1df48390>"
      ]
     },
     "metadata": {},
     "output_type": "display_data"
    },
    {
     "data": {
      "image/png": "[encoded data removed]",
      "text/plain": [
       "<matplotlib.figure.Figure at 0x24d1c2a5f28>"
      ]
     },
     "metadata": {},
     "output_type": "display_data"
    },
    {
     "data": {
      "image/png": "[encoded data removed]",
      "text/plain": [
       "<matplotlib.figure.Figure at 0x24d1c278ef0>"
      ]
     },
     "metadata": {},
     "output_type": "display_data"
    }
   ],
   "source": [
    "def plot_distributions_hist(x_df,col_list):\n",
    "    for col in col_list:\n",
    "        x_df[[col]].hist(bins=10)\n",
    "\n",
    "sensor_cols = [col for col in task_df.columns if 'sensor' in col]\n",
    "print(sensor_cols)\n",
    "plot_distributions_hist(task_df,sensor_cols)\n"
   ]
  },
  {
   "cell_type": "code",
   "execution_count": 97,
   "metadata": {},
   "outputs": [
    {
     "data": {
      "text/html": [
       "<style  type=\"text/css\" >\n",
       "    #T_4edae9d2_de05_11e9_9b84_44a842ecf333row0_col0 {\n",
       "            background-color:  #b40426;\n",
       "        }    #T_4edae9d2_de05_11e9_9b84_44a842ecf333row0_col1 {\n",
       "            background-color:  #3b4cc0;\n",
       "        }    #T_4edae9d2_de05_11e9_9b84_44a842ecf333row0_col2 {\n",
       "            background-color:  #506bda;\n",
       "        }    #T_4edae9d2_de05_11e9_9b84_44a842ecf333row0_col3 {\n",
       "            background-color:  #a7c5fe;\n",
       "        }    #T_4edae9d2_de05_11e9_9b84_44a842ecf333row0_col4 {\n",
       "            background-color:  #bad0f8;\n",
       "        }    #T_4edae9d2_de05_11e9_9b84_44a842ecf333row0_col5 {\n",
       "            background-color:  #80a3fa;\n",
       "        }    #T_4edae9d2_de05_11e9_9b84_44a842ecf333row0_col6 {\n",
       "            background-color:  #5572df;\n",
       "        }    #T_4edae9d2_de05_11e9_9b84_44a842ecf333row0_col7 {\n",
       "            background-color:  #536edd;\n",
       "        }    #T_4edae9d2_de05_11e9_9b84_44a842ecf333row0_col8 {\n",
       "            background-color:  #cfdaea;\n",
       "        }    #T_4edae9d2_de05_11e9_9b84_44a842ecf333row0_col9 {\n",
       "            background-color:  #4b64d5;\n",
       "        }    #T_4edae9d2_de05_11e9_9b84_44a842ecf333row1_col0 {\n",
       "            background-color:  #3b4cc0;\n",
       "        }    #T_4edae9d2_de05_11e9_9b84_44a842ecf333row1_col1 {\n",
       "            background-color:  #b40426;\n",
       "        }    #T_4edae9d2_de05_11e9_9b84_44a842ecf333row1_col2 {\n",
       "            background-color:  #5b7ae5;\n",
       "        }    #T_4edae9d2_de05_11e9_9b84_44a842ecf333row1_col3 {\n",
       "            background-color:  #3b4cc0;\n",
       "        }    #T_4edae9d2_de05_11e9_9b84_44a842ecf333row1_col4 {\n",
       "            background-color:  #3b4cc0;\n",
       "        }    #T_4edae9d2_de05_11e9_9b84_44a842ecf333row1_col5 {\n",
       "            background-color:  #5d7ce6;\n",
       "        }    #T_4edae9d2_de05_11e9_9b84_44a842ecf333row1_col6 {\n",
       "            background-color:  #3b4cc0;\n",
       "        }    #T_4edae9d2_de05_11e9_9b84_44a842ecf333row1_col7 {\n",
       "            background-color:  #4358cb;\n",
       "        }    #T_4edae9d2_de05_11e9_9b84_44a842ecf333row1_col8 {\n",
       "            background-color:  #3b4cc0;\n",
       "        }    #T_4edae9d2_de05_11e9_9b84_44a842ecf333row1_col9 {\n",
       "            background-color:  #445acc;\n",
       "        }    #T_4edae9d2_de05_11e9_9b84_44a842ecf333row2_col0 {\n",
       "            background-color:  #799cf8;\n",
       "        }    #T_4edae9d2_de05_11e9_9b84_44a842ecf333row2_col1 {\n",
       "            background-color:  #84a7fc;\n",
       "        }    #T_4edae9d2_de05_11e9_9b84_44a842ecf333row2_col2 {\n",
       "            background-color:  #b40426;\n",
       "        }    #T_4edae9d2_de05_11e9_9b84_44a842ecf333row2_col3 {\n",
       "            background-color:  #7699f6;\n",
       "        }    #T_4edae9d2_de05_11e9_9b84_44a842ecf333row2_col4 {\n",
       "            background-color:  #5875e1;\n",
       "        }    #T_4edae9d2_de05_11e9_9b84_44a842ecf333row2_col5 {\n",
       "            background-color:  #4961d2;\n",
       "        }    #T_4edae9d2_de05_11e9_9b84_44a842ecf333row2_col6 {\n",
       "            background-color:  #485fd1;\n",
       "        }    #T_4edae9d2_de05_11e9_9b84_44a842ecf333row2_col7 {\n",
       "            background-color:  #3c4ec2;\n",
       "        }    #T_4edae9d2_de05_11e9_9b84_44a842ecf333row2_col8 {\n",
       "            background-color:  #6485ec;\n",
       "        }    #T_4edae9d2_de05_11e9_9b84_44a842ecf333row2_col9 {\n",
       "            background-color:  #3b4cc0;\n",
       "        }    #T_4edae9d2_de05_11e9_9b84_44a842ecf333row3_col0 {\n",
       "            background-color:  #bbd1f8;\n",
       "        }    #T_4edae9d2_de05_11e9_9b84_44a842ecf333row3_col1 {\n",
       "            background-color:  #5470de;\n",
       "        }    #T_4edae9d2_de05_11e9_9b84_44a842ecf333row3_col2 {\n",
       "            background-color:  #6788ee;\n",
       "        }    #T_4edae9d2_de05_11e9_9b84_44a842ecf333row3_col3 {\n",
       "            background-color:  #b40426;\n",
       "        }    #T_4edae9d2_de05_11e9_9b84_44a842ecf333row3_col4 {\n",
       "            background-color:  #b9d0f9;\n",
       "        }    #T_4edae9d2_de05_11e9_9b84_44a842ecf333row3_col5 {\n",
       "            background-color:  #5673e0;\n",
       "        }    #T_4edae9d2_de05_11e9_9b84_44a842ecf333row3_col6 {\n",
       "            background-color:  #3b4cc0;\n",
       "        }    #T_4edae9d2_de05_11e9_9b84_44a842ecf333row3_col7 {\n",
       "            background-color:  #3b4cc0;\n",
       "        }    #T_4edae9d2_de05_11e9_9b84_44a842ecf333row3_col8 {\n",
       "            background-color:  #bcd2f7;\n",
       "        }    #T_4edae9d2_de05_11e9_9b84_44a842ecf333row3_col9 {\n",
       "            background-color:  #4f69d9;\n",
       "        }    #T_4edae9d2_de05_11e9_9b84_44a842ecf333row4_col0 {\n",
       "            background-color:  #c7d7f0;\n",
       "        }    #T_4edae9d2_de05_11e9_9b84_44a842ecf333row4_col1 {\n",
       "            background-color:  #4f69d9;\n",
       "        }    #T_4edae9d2_de05_11e9_9b84_44a842ecf333row4_col2 {\n",
       "            background-color:  #445acc;\n",
       "        }    #T_4edae9d2_de05_11e9_9b84_44a842ecf333row4_col3 {\n",
       "            background-color:  #b5cdfa;\n",
       "        }    #T_4edae9d2_de05_11e9_9b84_44a842ecf333row4_col4 {\n",
       "            background-color:  #b40426;\n",
       "        }    #T_4edae9d2_de05_11e9_9b84_44a842ecf333row4_col5 {\n",
       "            background-color:  #86a9fc;\n",
       "        }    #T_4edae9d2_de05_11e9_9b84_44a842ecf333row4_col6 {\n",
       "            background-color:  #516ddb;\n",
       "        }    #T_4edae9d2_de05_11e9_9b84_44a842ecf333row4_col7 {\n",
       "            background-color:  #5572df;\n",
       "        }    #T_4edae9d2_de05_11e9_9b84_44a842ecf333row4_col8 {\n",
       "            background-color:  #d4dbe6;\n",
       "        }    #T_4edae9d2_de05_11e9_9b84_44a842ecf333row4_col9 {\n",
       "            background-color:  #516ddb;\n",
       "        }    #T_4edae9d2_de05_11e9_9b84_44a842ecf333row5_col0 {\n",
       "            background-color:  #a3c2fe;\n",
       "        }    #T_4edae9d2_de05_11e9_9b84_44a842ecf333row5_col1 {\n",
       "            background-color:  #84a7fc;\n",
       "        }    #T_4edae9d2_de05_11e9_9b84_44a842ecf333row5_col2 {\n",
       "            background-color:  #485fd1;\n",
       "        }    #T_4edae9d2_de05_11e9_9b84_44a842ecf333row5_col3 {\n",
       "            background-color:  #6485ec;\n",
       "        }    #T_4edae9d2_de05_11e9_9b84_44a842ecf333row5_col4 {\n",
       "            background-color:  #97b8ff;\n",
       "        }    #T_4edae9d2_de05_11e9_9b84_44a842ecf333row5_col5 {\n",
       "            background-color:  #b40426;\n",
       "        }    #T_4edae9d2_de05_11e9_9b84_44a842ecf333row5_col6 {\n",
       "            background-color:  #465ecf;\n",
       "        }    #T_4edae9d2_de05_11e9_9b84_44a842ecf333row5_col7 {\n",
       "            background-color:  #4055c8;\n",
       "        }    #T_4edae9d2_de05_11e9_9b84_44a842ecf333row5_col8 {\n",
       "            background-color:  #a9c6fd;\n",
       "        }    #T_4edae9d2_de05_11e9_9b84_44a842ecf333row5_col9 {\n",
       "            background-color:  #6180e9;\n",
       "        }    #T_4edae9d2_de05_11e9_9b84_44a842ecf333row6_col0 {\n",
       "            background-color:  #7093f3;\n",
       "        }    #T_4edae9d2_de05_11e9_9b84_44a842ecf333row6_col1 {\n",
       "            background-color:  #5673e0;\n",
       "        }    #T_4edae9d2_de05_11e9_9b84_44a842ecf333row6_col2 {\n",
       "            background-color:  #3b4cc0;\n",
       "        }    #T_4edae9d2_de05_11e9_9b84_44a842ecf333row6_col3 {\n",
       "            background-color:  #3c4ec2;\n",
       "        }    #T_4edae9d2_de05_11e9_9b84_44a842ecf333row6_col4 {\n",
       "            background-color:  #5875e1;\n",
       "        }    #T_4edae9d2_de05_11e9_9b84_44a842ecf333row6_col5 {\n",
       "            background-color:  #3b4cc0;\n",
       "        }    #T_4edae9d2_de05_11e9_9b84_44a842ecf333row6_col6 {\n",
       "            background-color:  #b40426;\n",
       "        }    #T_4edae9d2_de05_11e9_9b84_44a842ecf333row6_col7 {\n",
       "            background-color:  #4e68d8;\n",
       "        }    #T_4edae9d2_de05_11e9_9b84_44a842ecf333row6_col8 {\n",
       "            background-color:  #516ddb;\n",
       "        }    #T_4edae9d2_de05_11e9_9b84_44a842ecf333row6_col9 {\n",
       "            background-color:  #5875e1;\n",
       "        }    #T_4edae9d2_de05_11e9_9b84_44a842ecf333row7_col0 {\n",
       "            background-color:  #8badfd;\n",
       "        }    #T_4edae9d2_de05_11e9_9b84_44a842ecf333row7_col1 {\n",
       "            background-color:  #7da0f9;\n",
       "        }    #T_4edae9d2_de05_11e9_9b84_44a842ecf333row7_col2 {\n",
       "            background-color:  #4c66d6;\n",
       "        }    #T_4edae9d2_de05_11e9_9b84_44a842ecf333row7_col3 {\n",
       "            background-color:  #5977e3;\n",
       "        }    #T_4edae9d2_de05_11e9_9b84_44a842ecf333row7_col4 {\n",
       "            background-color:  #799cf8;\n",
       "        }    #T_4edae9d2_de05_11e9_9b84_44a842ecf333row7_col5 {\n",
       "            background-color:  #516ddb;\n",
       "        }    #T_4edae9d2_de05_11e9_9b84_44a842ecf333row7_col6 {\n",
       "            background-color:  #6b8df0;\n",
       "        }    #T_4edae9d2_de05_11e9_9b84_44a842ecf333row7_col7 {\n",
       "            background-color:  #b40426;\n",
       "        }    #T_4edae9d2_de05_11e9_9b84_44a842ecf333row7_col8 {\n",
       "            background-color:  #799cf8;\n",
       "        }    #T_4edae9d2_de05_11e9_9b84_44a842ecf333row7_col9 {\n",
       "            background-color:  #5d7ce6;\n",
       "        }    #T_4edae9d2_de05_11e9_9b84_44a842ecf333row8_col0 {\n",
       "            background-color:  #d6dce4;\n",
       "        }    #T_4edae9d2_de05_11e9_9b84_44a842ecf333row8_col1 {\n",
       "            background-color:  #465ecf;\n",
       "        }    #T_4edae9d2_de05_11e9_9b84_44a842ecf333row8_col2 {\n",
       "            background-color:  #4961d2;\n",
       "        }    #T_4edae9d2_de05_11e9_9b84_44a842ecf333row8_col3 {\n",
       "            background-color:  #b2ccfb;\n",
       "        }    #T_4edae9d2_de05_11e9_9b84_44a842ecf333row8_col4 {\n",
       "            background-color:  #cfdaea;\n",
       "        }    #T_4edae9d2_de05_11e9_9b84_44a842ecf333row8_col5 {\n",
       "            background-color:  #92b4fe;\n",
       "        }    #T_4edae9d2_de05_11e9_9b84_44a842ecf333row8_col6 {\n",
       "            background-color:  #4358cb;\n",
       "        }    #T_4edae9d2_de05_11e9_9b84_44a842ecf333row8_col7 {\n",
       "            background-color:  #4c66d6;\n",
       "        }    #T_4edae9d2_de05_11e9_9b84_44a842ecf333row8_col8 {\n",
       "            background-color:  #b40426;\n",
       "        }    #T_4edae9d2_de05_11e9_9b84_44a842ecf333row8_col9 {\n",
       "            background-color:  #4055c8;\n",
       "        }    #T_4edae9d2_de05_11e9_9b84_44a842ecf333row9_col0 {\n",
       "            background-color:  #7396f5;\n",
       "        }    #T_4edae9d2_de05_11e9_9b84_44a842ecf333row9_col1 {\n",
       "            background-color:  #6c8ff1;\n",
       "        }    #T_4edae9d2_de05_11e9_9b84_44a842ecf333row9_col2 {\n",
       "            background-color:  #3b4cc0;\n",
       "        }    #T_4edae9d2_de05_11e9_9b84_44a842ecf333row9_col3 {\n",
       "            background-color:  #5d7ce6;\n",
       "        }    #T_4edae9d2_de05_11e9_9b84_44a842ecf333row9_col4 {\n",
       "            background-color:  #6485ec;\n",
       "        }    #T_4edae9d2_de05_11e9_9b84_44a842ecf333row9_col5 {\n",
       "            background-color:  #6180e9;\n",
       "        }    #T_4edae9d2_de05_11e9_9b84_44a842ecf333row9_col6 {\n",
       "            background-color:  #6384eb;\n",
       "        }    #T_4edae9d2_de05_11e9_9b84_44a842ecf333row9_col7 {\n",
       "            background-color:  #4b64d5;\n",
       "        }    #T_4edae9d2_de05_11e9_9b84_44a842ecf333row9_col8 {\n",
       "            background-color:  #5d7ce6;\n",
       "        }    #T_4edae9d2_de05_11e9_9b84_44a842ecf333row9_col9 {\n",
       "            background-color:  #b40426;\n",
       "        }</style>  \n",
       "<table id=\"T_4edae9d2_de05_11e9_9b84_44a842ecf333\" > \n",
       "<thead>    <tr> \n",
       "        <th class=\"blank level0\" ></th> \n",
       "        <th class=\"col_heading level0 col0\" >sensor0</th> \n",
       "        <th class=\"col_heading level0 col1\" >sensor1</th> \n",
       "        <th class=\"col_heading level0 col2\" >sensor2</th> \n",
       "        <th class=\"col_heading level0 col3\" >sensor3</th> \n",
       "        <th class=\"col_heading level0 col4\" >sensor4</th> \n",
       "        <th class=\"col_heading level0 col5\" >sensor5</th> \n",
       "        <th class=\"col_heading level0 col6\" >sensor6</th> \n",
       "        <th class=\"col_heading level0 col7\" >sensor7</th> \n",
       "        <th class=\"col_heading level0 col8\" >sensor8</th> \n",
       "        <th class=\"col_heading level0 col9\" >sensor9</th> \n",
       "    </tr></thead> \n",
       "<tbody>    <tr> \n",
       "        <th id=\"T_4edae9d2_de05_11e9_9b84_44a842ecf333level0_row0\" class=\"row_heading level0 row0\" >sensor0</th> \n",
       "        <td id=\"T_4edae9d2_de05_11e9_9b84_44a842ecf333row0_col0\" class=\"data row0 col0\" >1</td> \n",
       "        <td id=\"T_4edae9d2_de05_11e9_9b84_44a842ecf333row0_col1\" class=\"data row0 col1\" >-0.215668</td> \n",
       "        <td id=\"T_4edae9d2_de05_11e9_9b84_44a842ecf333row0_col2\" class=\"data row0 col2\" >0.0195214</td> \n",
       "        <td id=\"T_4edae9d2_de05_11e9_9b84_44a842ecf333row0_col3\" class=\"data row0 col3\" >0.253244</td> \n",
       "        <td id=\"T_4edae9d2_de05_11e9_9b84_44a842ecf333row0_col4\" class=\"data row0 col4\" >0.30076</td> \n",
       "        <td id=\"T_4edae9d2_de05_11e9_9b84_44a842ecf333row0_col5\" class=\"data row0 col5\" >0.164243</td> \n",
       "        <td id=\"T_4edae9d2_de05_11e9_9b84_44a842ecf333row0_col6\" class=\"data row0 col6\" >-0.00784906</td> \n",
       "        <td id=\"T_4edae9d2_de05_11e9_9b84_44a842ecf333row0_col7\" class=\"data row0 col7\" >0.0803058</td> \n",
       "        <td id=\"T_4edae9d2_de05_11e9_9b84_44a842ecf333row0_col8\" class=\"data row0 col8\" >0.361751</td> \n",
       "        <td id=\"T_4edae9d2_de05_11e9_9b84_44a842ecf333row0_col9\" class=\"data row0 col9\" >0.00131657</td> \n",
       "    </tr>    <tr> \n",
       "        <th id=\"T_4edae9d2_de05_11e9_9b84_44a842ecf333level0_row1\" class=\"row_heading level0 row1\" >sensor1</th> \n",
       "        <td id=\"T_4edae9d2_de05_11e9_9b84_44a842ecf333row1_col0\" class=\"data row1 col0\" >-0.215668</td> \n",
       "        <td id=\"T_4edae9d2_de05_11e9_9b84_44a842ecf333row1_col1\" class=\"data row1 col1\" >1</td> \n",
       "        <td id=\"T_4edae9d2_de05_11e9_9b84_44a842ecf333row1_col2\" class=\"data row1 col2\" >0.0560416</td> \n",
       "        <td id=\"T_4edae9d2_de05_11e9_9b84_44a842ecf333row1_col3\" class=\"data row1 col3\" >-0.111347</td> \n",
       "        <td id=\"T_4edae9d2_de05_11e9_9b84_44a842ecf333row1_col4\" class=\"data row1 col4\" >-0.130463</td> \n",
       "        <td id=\"T_4edae9d2_de05_11e9_9b84_44a842ecf333row1_col5\" class=\"data row1 col5\" >0.0554008</td> \n",
       "        <td id=\"T_4edae9d2_de05_11e9_9b84_44a842ecf333row1_col6\" class=\"data row1 col6\" >-0.106082</td> \n",
       "        <td id=\"T_4edae9d2_de05_11e9_9b84_44a842ecf333row1_col7\" class=\"data row1 col7\" >0.0315132</td> \n",
       "        <td id=\"T_4edae9d2_de05_11e9_9b84_44a842ecf333row1_col8\" class=\"data row1 col8\" >-0.163818</td> \n",
       "        <td id=\"T_4edae9d2_de05_11e9_9b84_44a842ecf333row1_col9\" class=\"data row1 col9\" >-0.023655</td> \n",
       "    </tr>    <tr> \n",
       "        <th id=\"T_4edae9d2_de05_11e9_9b84_44a842ecf333level0_row2\" class=\"row_heading level0 row2\" >sensor2</th> \n",
       "        <td id=\"T_4edae9d2_de05_11e9_9b84_44a842ecf333row2_col0\" class=\"data row2 col0\" >0.0195214</td> \n",
       "        <td id=\"T_4edae9d2_de05_11e9_9b84_44a842ecf333row2_col1\" class=\"data row2 col1\" >0.0560416</td> \n",
       "        <td id=\"T_4edae9d2_de05_11e9_9b84_44a842ecf333row2_col2\" class=\"data row2 col2\" >1</td> \n",
       "        <td id=\"T_4edae9d2_de05_11e9_9b84_44a842ecf333row2_col3\" class=\"data row2 col3\" >0.0934468</td> \n",
       "        <td id=\"T_4edae9d2_de05_11e9_9b84_44a842ecf333row2_col4\" class=\"data row2 col4\" >-0.0234857</td> \n",
       "        <td id=\"T_4edae9d2_de05_11e9_9b84_44a842ecf333row2_col5\" class=\"data row2 col5\" >-0.00894763</td> \n",
       "        <td id=\"T_4edae9d2_de05_11e9_9b84_44a842ecf333row2_col6\" class=\"data row2 col6\" >-0.0570898</td> \n",
       "        <td id=\"T_4edae9d2_de05_11e9_9b84_44a842ecf333row2_col7\" class=\"data row2 col7\" >0.00689881</td> \n",
       "        <td id=\"T_4edae9d2_de05_11e9_9b84_44a842ecf333row2_col8\" class=\"data row2 col8\" >-0.00830811</td> \n",
       "        <td id=\"T_4edae9d2_de05_11e9_9b84_44a842ecf333row2_col9\" class=\"data row2 col9\" >-0.0585283</td> \n",
       "    </tr>    <tr> \n",
       "        <th id=\"T_4edae9d2_de05_11e9_9b84_44a842ecf333level0_row3\" class=\"row_heading level0 row3\" >sensor3</th> \n",
       "        <td id=\"T_4edae9d2_de05_11e9_9b84_44a842ecf333row3_col0\" class=\"data row3 col0\" >0.253244</td> \n",
       "        <td id=\"T_4edae9d2_de05_11e9_9b84_44a842ecf333row3_col1\" class=\"data row3 col1\" >-0.111347</td> \n",
       "        <td id=\"T_4edae9d2_de05_11e9_9b84_44a842ecf333row3_col2\" class=\"data row3 col2\" >0.0934468</td> \n",
       "        <td id=\"T_4edae9d2_de05_11e9_9b84_44a842ecf333row3_col3\" class=\"data row3 col3\" >1</td> \n",
       "        <td id=\"T_4edae9d2_de05_11e9_9b84_44a842ecf333row3_col4\" class=\"data row3 col4\" >0.295136</td> \n",
       "        <td id=\"T_4edae9d2_de05_11e9_9b84_44a842ecf333row3_col5\" class=\"data row3 col5\" >0.0381525</td> \n",
       "        <td id=\"T_4edae9d2_de05_11e9_9b84_44a842ecf333row3_col6\" class=\"data row3 col6\" >-0.105005</td> \n",
       "        <td id=\"T_4edae9d2_de05_11e9_9b84_44a842ecf333row3_col7\" class=\"data row3 col7\" >0.00124335</td> \n",
       "        <td id=\"T_4edae9d2_de05_11e9_9b84_44a842ecf333row3_col8\" class=\"data row3 col8\" >0.287776</td> \n",
       "        <td id=\"T_4edae9d2_de05_11e9_9b84_44a842ecf333row3_col9\" class=\"data row3 col9\" >0.0137316</td> \n",
       "    </tr>    <tr> \n",
       "        <th id=\"T_4edae9d2_de05_11e9_9b84_44a842ecf333level0_row4\" class=\"row_heading level0 row4\" >sensor4</th> \n",
       "        <td id=\"T_4edae9d2_de05_11e9_9b84_44a842ecf333row4_col0\" class=\"data row4 col0\" >0.30076</td> \n",
       "        <td id=\"T_4edae9d2_de05_11e9_9b84_44a842ecf333row4_col1\" class=\"data row4 col1\" >-0.130463</td> \n",
       "        <td id=\"T_4edae9d2_de05_11e9_9b84_44a842ecf333row4_col2\" class=\"data row4 col2\" >-0.0234857</td> \n",
       "        <td id=\"T_4edae9d2_de05_11e9_9b84_44a842ecf333row4_col3\" class=\"data row4 col3\" >0.295136</td> \n",
       "        <td id=\"T_4edae9d2_de05_11e9_9b84_44a842ecf333row4_col4\" class=\"data row4 col4\" >1</td> \n",
       "        <td id=\"T_4edae9d2_de05_11e9_9b84_44a842ecf333row4_col5\" class=\"data row4 col5\" >0.183916</td> \n",
       "        <td id=\"T_4edae9d2_de05_11e9_9b84_44a842ecf333row4_col6\" class=\"data row4 col6\" >-0.0226897</td> \n",
       "        <td id=\"T_4edae9d2_de05_11e9_9b84_44a842ecf333row4_col7\" class=\"data row4 col7\" >0.0901864</td> \n",
       "        <td id=\"T_4edae9d2_de05_11e9_9b84_44a842ecf333row4_col8\" class=\"data row4 col8\" >0.378306</td> \n",
       "        <td id=\"T_4edae9d2_de05_11e9_9b84_44a842ecf333row4_col9\" class=\"data row4 col9\" >0.023776</td> \n",
       "    </tr>    <tr> \n",
       "        <th id=\"T_4edae9d2_de05_11e9_9b84_44a842ecf333level0_row5\" class=\"row_heading level0 row5\" >sensor5</th> \n",
       "        <td id=\"T_4edae9d2_de05_11e9_9b84_44a842ecf333row5_col0\" class=\"data row5 col0\" >0.164243</td> \n",
       "        <td id=\"T_4edae9d2_de05_11e9_9b84_44a842ecf333row5_col1\" class=\"data row5 col1\" >0.0554008</td> \n",
       "        <td id=\"T_4edae9d2_de05_11e9_9b84_44a842ecf333row5_col2\" class=\"data row5 col2\" >-0.00894763</td> \n",
       "        <td id=\"T_4edae9d2_de05_11e9_9b84_44a842ecf333row5_col3\" class=\"data row5 col3\" >0.0381525</td> \n",
       "        <td id=\"T_4edae9d2_de05_11e9_9b84_44a842ecf333row5_col4\" class=\"data row5 col4\" >0.183916</td> \n",
       "        <td id=\"T_4edae9d2_de05_11e9_9b84_44a842ecf333row5_col5\" class=\"data row5 col5\" >1</td> \n",
       "        <td id=\"T_4edae9d2_de05_11e9_9b84_44a842ecf333row5_col6\" class=\"data row5 col6\" >-0.0612381</td> \n",
       "        <td id=\"T_4edae9d2_de05_11e9_9b84_44a842ecf333row5_col7\" class=\"data row5 col7\" >0.0208142</td> \n",
       "        <td id=\"T_4edae9d2_de05_11e9_9b84_44a842ecf333row5_col8\" class=\"data row5 col8\" >0.220014</td> \n",
       "        <td id=\"T_4edae9d2_de05_11e9_9b84_44a842ecf333row5_col9\" class=\"data row5 col9\" >0.0712578</td> \n",
       "    </tr>    <tr> \n",
       "        <th id=\"T_4edae9d2_de05_11e9_9b84_44a842ecf333level0_row6\" class=\"row_heading level0 row6\" >sensor6</th> \n",
       "        <td id=\"T_4edae9d2_de05_11e9_9b84_44a842ecf333row6_col0\" class=\"data row6 col0\" >-0.00784906</td> \n",
       "        <td id=\"T_4edae9d2_de05_11e9_9b84_44a842ecf333row6_col1\" class=\"data row6 col1\" >-0.106082</td> \n",
       "        <td id=\"T_4edae9d2_de05_11e9_9b84_44a842ecf333row6_col2\" class=\"data row6 col2\" >-0.0570898</td> \n",
       "        <td id=\"T_4edae9d2_de05_11e9_9b84_44a842ecf333row6_col3\" class=\"data row6 col3\" >-0.105005</td> \n",
       "        <td id=\"T_4edae9d2_de05_11e9_9b84_44a842ecf333row6_col4\" class=\"data row6 col4\" >-0.0226897</td> \n",
       "        <td id=\"T_4edae9d2_de05_11e9_9b84_44a842ecf333row6_col5\" class=\"data row6 col5\" >-0.0612381</td> \n",
       "        <td id=\"T_4edae9d2_de05_11e9_9b84_44a842ecf333row6_col6\" class=\"data row6 col6\" >1</td> \n",
       "        <td id=\"T_4edae9d2_de05_11e9_9b84_44a842ecf333row6_col7\" class=\"data row6 col7\" >0.0652107</td> \n",
       "        <td id=\"T_4edae9d2_de05_11e9_9b84_44a842ecf333row6_col8\" class=\"data row6 col8\" >-0.0733092</td> \n",
       "        <td id=\"T_4edae9d2_de05_11e9_9b84_44a842ecf333row6_col9\" class=\"data row6 col9\" >0.0407442</td> \n",
       "    </tr>    <tr> \n",
       "        <th id=\"T_4edae9d2_de05_11e9_9b84_44a842ecf333level0_row7\" class=\"row_heading level0 row7\" >sensor7</th> \n",
       "        <td id=\"T_4edae9d2_de05_11e9_9b84_44a842ecf333row7_col0\" class=\"data row7 col0\" >0.0803058</td> \n",
       "        <td id=\"T_4edae9d2_de05_11e9_9b84_44a842ecf333row7_col1\" class=\"data row7 col1\" >0.0315132</td> \n",
       "        <td id=\"T_4edae9d2_de05_11e9_9b84_44a842ecf333row7_col2\" class=\"data row7 col2\" >0.00689881</td> \n",
       "        <td id=\"T_4edae9d2_de05_11e9_9b84_44a842ecf333row7_col3\" class=\"data row7 col3\" >0.00124335</td> \n",
       "        <td id=\"T_4edae9d2_de05_11e9_9b84_44a842ecf333row7_col4\" class=\"data row7 col4\" >0.0901864</td> \n",
       "        <td id=\"T_4edae9d2_de05_11e9_9b84_44a842ecf333row7_col5\" class=\"data row7 col5\" >0.0208142</td> \n",
       "        <td id=\"T_4edae9d2_de05_11e9_9b84_44a842ecf333row7_col6\" class=\"data row7 col6\" >0.0652107</td> \n",
       "        <td id=\"T_4edae9d2_de05_11e9_9b84_44a842ecf333row7_col7\" class=\"data row7 col7\" >1</td> \n",
       "        <td id=\"T_4edae9d2_de05_11e9_9b84_44a842ecf333row7_col8\" class=\"data row7 col8\" >0.0600281</td> \n",
       "        <td id=\"T_4edae9d2_de05_11e9_9b84_44a842ecf333row7_col9\" class=\"data row7 col9\" >0.0593413</td> \n",
       "    </tr>    <tr> \n",
       "        <th id=\"T_4edae9d2_de05_11e9_9b84_44a842ecf333level0_row8\" class=\"row_heading level0 row8\" >sensor8</th> \n",
       "        <td id=\"T_4edae9d2_de05_11e9_9b84_44a842ecf333row8_col0\" class=\"data row8 col0\" >0.361751</td> \n",
       "        <td id=\"T_4edae9d2_de05_11e9_9b84_44a842ecf333row8_col1\" class=\"data row8 col1\" >-0.163818</td> \n",
       "        <td id=\"T_4edae9d2_de05_11e9_9b84_44a842ecf333row8_col2\" class=\"data row8 col2\" >-0.00830811</td> \n",
       "        <td id=\"T_4edae9d2_de05_11e9_9b84_44a842ecf333row8_col3\" class=\"data row8 col3\" >0.287776</td> \n",
       "        <td id=\"T_4edae9d2_de05_11e9_9b84_44a842ecf333row8_col4\" class=\"data row8 col4\" >0.378306</td> \n",
       "        <td id=\"T_4edae9d2_de05_11e9_9b84_44a842ecf333row8_col5\" class=\"data row8 col5\" >0.220014</td> \n",
       "        <td id=\"T_4edae9d2_de05_11e9_9b84_44a842ecf333row8_col6\" class=\"data row8 col6\" >-0.0733092</td> \n",
       "        <td id=\"T_4edae9d2_de05_11e9_9b84_44a842ecf333row8_col7\" class=\"data row8 col7\" >0.0600281</td> \n",
       "        <td id=\"T_4edae9d2_de05_11e9_9b84_44a842ecf333row8_col8\" class=\"data row8 col8\" >1</td> \n",
       "        <td id=\"T_4edae9d2_de05_11e9_9b84_44a842ecf333row8_col9\" class=\"data row8 col9\" >-0.0339914</td> \n",
       "    </tr>    <tr> \n",
       "        <th id=\"T_4edae9d2_de05_11e9_9b84_44a842ecf333level0_row9\" class=\"row_heading level0 row9\" >sensor9</th> \n",
       "        <td id=\"T_4edae9d2_de05_11e9_9b84_44a842ecf333row9_col0\" class=\"data row9 col0\" >0.00131657</td> \n",
       "        <td id=\"T_4edae9d2_de05_11e9_9b84_44a842ecf333row9_col1\" class=\"data row9 col1\" >-0.023655</td> \n",
       "        <td id=\"T_4edae9d2_de05_11e9_9b84_44a842ecf333row9_col2\" class=\"data row9 col2\" >-0.0585283</td> \n",
       "        <td id=\"T_4edae9d2_de05_11e9_9b84_44a842ecf333row9_col3\" class=\"data row9 col3\" >0.0137316</td> \n",
       "        <td id=\"T_4edae9d2_de05_11e9_9b84_44a842ecf333row9_col4\" class=\"data row9 col4\" >0.023776</td> \n",
       "        <td id=\"T_4edae9d2_de05_11e9_9b84_44a842ecf333row9_col5\" class=\"data row9 col5\" >0.0712578</td> \n",
       "        <td id=\"T_4edae9d2_de05_11e9_9b84_44a842ecf333row9_col6\" class=\"data row9 col6\" >0.0407442</td> \n",
       "        <td id=\"T_4edae9d2_de05_11e9_9b84_44a842ecf333row9_col7\" class=\"data row9 col7\" >0.0593413</td> \n",
       "        <td id=\"T_4edae9d2_de05_11e9_9b84_44a842ecf333row9_col8\" class=\"data row9 col8\" >-0.0339914</td> \n",
       "        <td id=\"T_4edae9d2_de05_11e9_9b84_44a842ecf333row9_col9\" class=\"data row9 col9\" >1</td> \n",
       "    </tr></tbody> \n",
       "</table> "
      ],
      "text/plain": [
       "<pandas.io.formats.style.Styler at 0x24d1c4437b8>"
      ]
     },
     "execution_count": 97,
     "metadata": {},
     "output_type": "execute_result"
    }
   ],
   "source": [
    "\n",
    "corr = task_df[sensor_cols].corr()\n",
    "corr.style.background_gradient(cmap='coolwarm')\n"
   ]
  },
  {
   "cell_type": "markdown",
   "metadata": {},
   "source": [
    "The Heatmap shows that, the variables are not highly correlated.I am not seeing any correlation value beyond 0.36. So I will not remove any variable based on correlated  variables."
   ]
  },
  {
   "cell_type": "code",
   "execution_count": null,
   "metadata": {},
   "outputs": [],
   "source": []
  },
  {
   "cell_type": "code",
   "execution_count": null,
   "metadata": {},
   "outputs": [],
   "source": []
  },
  {
   "cell_type": "code",
   "execution_count": 98,
   "metadata": {},
   "outputs": [
    {
     "name": "stdout",
     "output_type": "stream",
     "text": [
      "  Variable      Score\n",
      "8  sensor8  31.637080\n",
      "4  sensor4  24.577241\n",
      "0  sensor0  16.176762\n",
      "3  sensor3  13.045426\n",
      "1  sensor1   3.814755\n",
      "5  sensor5   3.309987\n",
      "7  sensor7   2.038891\n",
      "9  sensor9   0.492408\n",
      "2  sensor2   0.103099\n",
      "6  sensor6   0.003760\n"
     ]
    }
   ],
   "source": [
    "from sklearn.feature_selection import SelectKBest\n",
    "from sklearn.feature_selection import chi2\n",
    "X, y = task_df_1[sensor_cols], task_df_1.class_label\n",
    "\n",
    "bestfeatures = SelectKBest(score_func=chi2, k=10)\n",
    "fit = bestfeatures.fit(X,y)\n",
    "\n",
    "dfscores = pd.DataFrame(fit.scores_)\n",
    "dfcolumns = pd.DataFrame(X.columns)\n",
    "#concat two dataframes for better visualization \n",
    "featureScores = pd.concat([dfcolumns,dfscores],axis=1)\n",
    "featureScores.columns = ['Variable','Score']  #naming the dataframe columns\n",
    "print(featureScores.nlargest(10,'Score'))  #print 10 best features\n"
   ]
  },
  {
   "cell_type": "code",
   "execution_count": 99,
   "metadata": {},
   "outputs": [
    {
     "name": "stdout",
     "output_type": "stream",
     "text": [
      "[0.11814346 0.02953587 0.05485232 0.02953587 0.12236287 0.\n",
      " 0.5063291  0.         0.11814346 0.02109705]\n"
     ]
    },
    {
     "name": "stderr",
     "output_type": "stream",
     "text": [
      "C:\\Users\\Dell 3450\\Anaconda3\\lib\\site-packages\\sklearn\\preprocessing\\label.py:219: DataConversionWarning: A column-vector y was passed when a 1d array was expected. Please change the shape of y to (n_samples, ), for example using ravel().\n",
      "  y = column_or_1d(y, warn=True)\n",
      "C:\\Users\\Dell 3450\\Anaconda3\\lib\\site-packages\\sklearn\\preprocessing\\label.py:252: DataConversionWarning: A column-vector y was passed when a 1d array was expected. Please change the shape of y to (n_samples, ), for example using ravel().\n",
      "  y = column_or_1d(y, warn=True)\n"
     ]
    }
   ],
   "source": [
    "\n",
    "\n",
    "# split data into X and y\n",
    "X = task_df[sensor_cols]\n",
    "y = task_df[['class_label']]\n",
    "# fit model no training data\n",
    "model = XGBClassifier()\n",
    "model.fit(X, y)\n",
    "# feature importance\n",
    "print(model.feature_importances_)\n",
    "# plot\n",
    "#pyplot.bar(range(len(model.feature_importances_)), model.feature_importances_)\n",
    "#pyplot.show()"
   ]
  },
  {
   "cell_type": "code",
   "execution_count": 100,
   "metadata": {},
   "outputs": [
    {
     "data": {
      "image/png": "[encoded data removed]",
      "text/plain": [
       "<matplotlib.figure.Figure at 0x24d1c4d4c18>"
      ]
     },
     "metadata": {},
     "output_type": "display_data"
    }
   ],
   "source": [
    "from xgboost import plot_importance\n",
    "plot_importance(model)\n",
    "pyplot.show()"
   ]
  },
  {
   "cell_type": "markdown",
   "metadata": {},
   "source": [
    "The sensor readings follows approximately uniform distributions. They don't seem to follow normal distributions. I will not try any transformations of the data here as, we will be using non parametric methods to find the importance of variables.\n"
   ]
  },
  {
   "cell_type": "code",
   "execution_count": 101,
   "metadata": {},
   "outputs": [
    {
     "name": "stdout",
     "output_type": "stream",
     "text": [
      "Feature ranking:\n",
      "1. feature 8 (0.312747)\n",
      "2. feature 4 (0.217964)\n",
      "3. feature 6 (0.201802)\n",
      "4. feature 0 (0.143105)\n",
      "5. feature 2 (0.047483)\n",
      "6. feature 3 (0.035538)\n",
      "7. feature 1 (0.019534)\n",
      "8. feature 5 (0.009356)\n",
      "9. feature 9 (0.007752)\n",
      "10. feature 7 (0.004719)\n"
     ]
    },
    {
     "data": {
      "image/png": "[encoded data removed]",
      "text/plain": [
       "<matplotlib.figure.Figure at 0x24d1bfe5780>"
      ]
     },
     "metadata": {},
     "output_type": "display_data"
    }
   ],
   "source": [
    "from sklearn.ensemble import RandomForestClassifier\n",
    "from sklearn.model_selection import train_test_split\n",
    "## this method calculates variable importance based on random forest and plots the variable importance\n",
    "def calculatePlot_Variable_Importance(tr_x,tr_y):\n",
    "    regr = RandomForestClassifier(max_depth=2,random_state=0,n_estimators=100)\n",
    "    regr.fit(tr_x,tr_y.class_label.tolist())\n",
    "\n",
    "    importances = regr.feature_importances_\n",
    "    std = np.std([tree.feature_importances_ for tree in regr.estimators_],\n",
    "             axis=0)\n",
    "    indices = np.argsort(importances)[::-1]\n",
    "\n",
    "    # Print the feature ranking\n",
    "    print(\"Feature ranking:\")\n",
    "\n",
    "    for f in range(tr_x.shape[1]):\n",
    "        print(\"%d. feature %d (%f)\" % (f + 1, indices[f], importances[indices[f]]))\n",
    "\n",
    "    # Plot the feature importances of the forest\n",
    "    plt.figure()\n",
    "    plt.title(\"Feature importances\")\n",
    "    plt.bar(range(tr_x.shape[1]), importances[indices],color=\"r\", yerr=std[indices], align=\"center\")\n",
    "    plt.xticks(range(tr_x.shape[1]), indices)\n",
    "    plt.xlim([-1, tr_x.shape[1]])\n",
    "    plt.show()\n",
    "    \n",
    "\n",
    "    ## this method divides the input dataframe into train and test data.\n",
    "def create_train_test_df(x_df,text_percentage):\n",
    "    x_df = x_df.loc[:, ~x_df.columns.str.contains('^Unnamed')]\n",
    "    train_X = x_df.drop(['class_label','sample index'],axis=1)\n",
    "    train_Y = x_df[['class_label']]   \n",
    "    X_train, X_test, y_train, y_test = train_test_split(train_X, train_Y, test_size=text_percentage, random_state=42)\n",
    "\n",
    "    return X_train,X_test,y_train,y_test\n",
    "\n",
    "x_train, x_test, y_train, y_test =  create_train_test_df(task_df,0.01)\n",
    "## Calculate variable importance based on Variable importance statistics of random forest.\n",
    "calculatePlot_Variable_Importance(x_train,y_train)\n"
   ]
  },
  {
   "cell_type": "markdown",
   "metadata": {},
   "source": [
    "Lets look at the Correlation Matrix of the variables."
   ]
  },
  {
   "cell_type": "code",
   "execution_count": null,
   "metadata": {},
   "outputs": [],
   "source": []
  },
  {
   "cell_type": "markdown",
   "metadata": {},
   "source": []
  },
  {
   "cell_type": "code",
   "execution_count": 102,
   "metadata": {},
   "outputs": [],
   "source": [
    "from sklearn.datasets import make_classification\n",
    "\n",
    "from decomposition.var_clus import VarClus\n"
   ]
  },
  {
   "cell_type": "code",
   "execution_count": 103,
   "metadata": {},
   "outputs": [
    {
     "name": "stdout",
     "output_type": "stream",
     "text": [
      "decomposing cluster cluster-0\n",
      "phase #1: NCS\n",
      "phase #2: Search\n",
      "assessing feature sensor0\n",
      "current EV is 3.2299910324406094, new EV is 3.0109267883118265\n",
      "assessing feature sensor3\n",
      "current EV is 3.2299910324406094, new EV is 3.0378977306420607\n",
      "assessing feature sensor4\n",
      "current EV is 3.2299910324406094, new EV is 2.935064039030464\n",
      "Number of max tries has been reached. Returning current result...\n",
      "decomposing cluster cluster-0-0\n",
      "phase #1: NCS\n",
      "Number of features is smaller than n_split, reducing n_split temporarily\n",
      "phase #2: Search\n",
      "assessing feature sensor0\n",
      "Number of features is smaller than n_split, reducing n_split temporarily\n",
      "current EV is 2.949990958252873, new EV is 2.813950103036783\n",
      "assessing feature sensor3\n",
      "current EV is 2.949990958252873, new EV is 2.73991025819282\n",
      "assessing feature sensor4\n",
      "current EV is 2.949990958252873, new EV is 2.7951194798135557\n",
      "Number of max tries has been reached. Returning current result...\n",
      "decomposing cluster cluster-0-0-0\n",
      "phase #1: NCS\n",
      "Number of features is smaller than n_split, reducing n_split temporarily\n",
      "phase #2: Search\n",
      "assessing feature sensor0\n",
      "Number of features is smaller than n_split, reducing n_split temporarily\n",
      "current EV is 2.7016621779272985, new EV is 2.6381452330211195\n",
      "assessing feature sensor4\n",
      "current EV is 2.7016621779272985, new EV is 2.6635466362140057\n",
      "assessing feature sensor8\n",
      "current EV is 2.7016621779272985, new EV is 2.5950238820000013\n",
      "Number of max tries has been reached. Returning current result...\n",
      "decomposing cluster cluster-0-0-0-0\n",
      "Features of this cluster are most correlated with first PCA component. Consider increasing max_eigenvalue. Randomly assigning features to child clusters...\n",
      "phase #1: NCS\n",
      "Number of features is smaller than n_split, reducing n_split temporarily\n",
      "phase #2: Search\n",
      "assessing feature sensor0\n",
      "Number of features is smaller than n_split, reducing n_split temporarily\n",
      "Number of features is smaller than n_split, reducing n_split temporarily\n",
      "current EV is 2.367670523799786, new EV is 2.306526187839969\n",
      "assessing feature sensor8\n",
      "Number of features is smaller than n_split, reducing n_split temporarily\n",
      "current EV is 2.367670523799786, new EV is 2.3842667047262496\n",
      "Feature sensor8 was re-assigned\n",
      "cluster-0-0-0-0-0 has 1 features and name_1 has 2 features\n",
      "assessing feature sensor4\n",
      "Number of features is smaller than n_split, reducing n_split temporarily\n",
      "current EV is 2.3842667047262496, new EV is 2.306526187839969\n",
      "assessing feature sensor8\n",
      "Number of features is smaller than n_split, reducing n_split temporarily\n",
      "current EV is 2.3842667047262496, new EV is 2.367670523799786\n",
      "Number of max tries has been reached. Returning current result...\n",
      "decomposing cluster cluster-0-0-0-0-1\n",
      "Features of this cluster are most correlated with first PCA component. Consider increasing max_eigenvalue. Randomly assigning features to child clusters...\n",
      "phase #1: NCS\n",
      "Number of features is smaller than n_split, reducing n_split temporarily\n",
      "Number of features is smaller than n_split, reducing n_split temporarily\n",
      "phase #2: Search\n",
      "decomposing cluster cluster-0-1\n",
      "phase #1: NCS\n",
      "Number of features is smaller than n_split, reducing n_split temporarily\n",
      "phase #2: Search\n",
      "assessing feature sensor1\n",
      "Number of features is smaller than n_split, reducing n_split temporarily\n",
      "current EV is 2.1813375427609807, new EV is 2.141496060813643\n",
      "assessing feature sensor2\n",
      "current EV is 2.1813375427609807, new EV is 2.135262262980419\n",
      "assessing feature sensor6\n",
      "current EV is 2.1813375427609807, new EV is 2.1643323288484\n",
      "Number of max tries has been reached. Returning current result...\n",
      "decomposing cluster cluster-0-1-0\n",
      "phase #1: NCS\n",
      "Number of features is smaller than n_split, reducing n_split temporarily\n",
      "phase #2: Search\n",
      "assessing feature sensor1\n",
      "Number of features is smaller than n_split, reducing n_split temporarily\n",
      "current EV is 2.1544105309970583, new EV is 2.0859596108418277\n",
      "assessing feature sensor2\n",
      "current EV is 2.1544105309970583, new EV is 2.170035675105848\n",
      "Feature sensor2 was re-assigned\n",
      "cluster-0-1-0-0 has 2 features and name_1 has 2 features\n",
      "assessing feature sensor6\n",
      "Number of features is smaller than n_split, reducing n_split temporarily\n",
      "current EV is 2.170035675105848, new EV is 2.109903881641399\n",
      "assessing feature sensor9\n",
      "Number of features is smaller than n_split, reducing n_split temporarily\n",
      "current EV is 2.170035675105848, new EV is 2.1283461668466144\n",
      "Number of max tries has been reached. Returning current result...\n",
      "decomposing cluster cluster-0-1-0-0\n",
      "Features of this cluster are most correlated with first PCA component. Consider increasing max_eigenvalue. Randomly assigning features to child clusters...\n",
      "phase #1: NCS\n",
      "Number of features is smaller than n_split, reducing n_split temporarily\n",
      "Number of features is smaller than n_split, reducing n_split temporarily\n",
      "phase #2: Search\n",
      "decomposing cluster cluster-0-1-0-1\n",
      "Features of this cluster are most correlated with first PCA component. Consider increasing max_eigenvalue. Randomly assigning features to child clusters...\n",
      "phase #1: NCS\n",
      "Number of features is smaller than n_split, reducing n_split temporarily\n",
      "Number of features is smaller than n_split, reducing n_split temporarily\n",
      "phase #2: Search\n"
     ]
    },
    {
     "data": {
      "text/plain": [
       "<decomposition.var_clus.Cluster at 0x24d1cca6588>"
      ]
     },
     "execution_count": 103,
     "metadata": {},
     "output_type": "execute_result"
    }
   ],
   "source": [
    "demo2 = VarClus(max_eigenvalue=0.25)\n",
    "demo2.decompose(task_df[sensor_cols])"
   ]
  },
  {
   "cell_type": "code",
   "execution_count": 104,
   "metadata": {},
   "outputs": [
    {
     "data": {
      "text/plain": [
       "(400, 10)"
      ]
     },
     "execution_count": 104,
     "metadata": {},
     "output_type": "execute_result"
    }
   ],
   "source": [
    "# Checkout the root_cluster\n",
    "root_cluster = demo2.cluster\n",
    "\n",
    "# Direct children of the root_cluster\n",
    "child_clusters = root_cluster.children\n",
    "\n",
    "# Direct parent of the root_cluster, if any\n",
    "parent_clusters = root_cluster.parents\n",
    "\n",
    "# root_cluster contains the original dataframe\n",
    "root_cluster.dataframe.shape"
   ]
  },
  {
   "cell_type": "code",
   "execution_count": 105,
   "metadata": {},
   "outputs": [
    {
     "name": "stdout",
     "output_type": "stream",
     "text": [
      "cluster-0\n",
      "|\n",
      "|-----cluster-0-0\n",
      "|     |\n",
      "|     |-----cluster-0-0-0\n",
      "|     |     |\n",
      "|     |     |-----cluster-0-0-0-0\n",
      "|     |     |     |\n",
      "|     |     |     |-----cluster-0-0-0-0-0\n",
      "|     |     |     |     |-----sensor0\n",
      "|     |     |     |\n",
      "|     |     |     |-----cluster-0-0-0-0-1\n",
      "|     |     |           |\n",
      "|     |     |           |-----cluster-0-0-0-0-1-0\n",
      "|     |     |           |     |-----sensor4\n",
      "|     |     |           |\n",
      "|     |     |           |-----cluster-0-0-0-0-1-1\n",
      "|     |     |                 |-----sensor8\n",
      "|     |     |\n",
      "|     |     |-----cluster-0-0-0-1\n",
      "|     |           |-----sensor3\n",
      "|     |\n",
      "|     |-----cluster-0-0-1\n",
      "|           |-----sensor5\n",
      "|\n",
      "|-----cluster-0-1\n",
      "      |\n",
      "      |-----cluster-0-1-0\n",
      "      |     |\n",
      "      |     |-----cluster-0-1-0-0\n",
      "      |     |     |\n",
      "      |     |     |-----cluster-0-1-0-0-0\n",
      "      |     |     |     |-----sensor1\n",
      "      |     |     |\n",
      "      |     |     |-----cluster-0-1-0-0-1\n",
      "      |     |           |-----sensor6\n",
      "      |     |\n",
      "      |     |-----cluster-0-1-0-1\n",
      "      |           |\n",
      "      |           |-----cluster-0-1-0-1-0\n",
      "      |           |     |-----sensor9\n",
      "      |           |\n",
      "      |           |-----cluster-0-1-0-1-1\n",
      "      |                 |-----sensor2\n",
      "      |\n",
      "      |-----cluster-0-1-1\n",
      "            |-----sensor7\n"
     ]
    }
   ],
   "source": [
    "demo2.print_cluster_structure()"
   ]
  },
  {
   "cell_type": "markdown",
   "metadata": {},
   "source": [
    "The above cluster plot shows that, each sensor variable is in separate clsuter. Which means that sensor variables are not redundant and more than one variable is not represneting the same information and so, we should not think about redundant variables."
   ]
  },
  {
   "cell_type": "code",
   "execution_count": 108,
   "metadata": {},
   "outputs": [],
   "source": [
    "## Wanted to check the coefficients, of the logistic regression.\n",
    "\n",
    "\n",
    "# from sklearn.linear_model import LogisticRegression\n",
    "# from sklearn.model_selection import cross_val_score\n",
    "# from sklearn.metrics import confusion_matrix\n",
    "# def applyLogisticRegressionClassification(x_df):  \n",
    "#     random_state = np.random.RandomState(0)\n",
    "#     x_df1 = x_df\n",
    "#     X = x_df1.drop(['class_label'],axis=1)\n",
    "#     n_samples, n_features = X .shape\n",
    "# #    X = X.reset_index()\n",
    "    \n",
    "#     y = x_df.class_label\n",
    "# #    y=y.reset_index()\n",
    "#     y=y.astype('int')\n",
    "    \n",
    "    \n",
    "#     clf = LogisticRegression(random_state=0, solver='lbfgs',multi_class='multinomial').fit(X, y)\n",
    "#     LRScore = cross_val_score(clf, X, y, cv=10)\n",
    "    \n",
    "#     clf.fit(X, y)\n",
    "#     return clf\n",
    "    \n",
    "# #   print(clf.density())\n",
    "# #    print(\"Accuracy of Logistic with 10 cross validaion score=====>>>> \",str(LRScore))\n",
    "# #    print(\"Mean and SD of Accuracy of Logistic with 10 cross validaion score=====>>>> \" + \"Mean: \" + str(round(np.mean(LRScore),2)) + \" Standard Deviation:\" +str(round(np.std(LRScore),2)))\n",
    "\n",
    "# task_df_1 = task_df.drop(['sample index'],axis=1)"
   ]
  },
  {
   "cell_type": "code",
   "execution_count": 109,
   "metadata": {},
   "outputs": [],
   "source": [
    "# lg_rg_model = applyLogisticRegressionClassification(task_df_1)\n",
    "# lg_rg_model.coef_"
   ]
  },
  {
   "cell_type": "code",
   "execution_count": null,
   "metadata": {},
   "outputs": [],
   "source": []
  },
  {
   "cell_type": "code",
   "execution_count": null,
   "metadata": {},
   "outputs": [],
   "source": []
  },
  {
   "cell_type": "code",
   "execution_count": null,
   "metadata": {},
   "outputs": [],
   "source": [
    "\n"
   ]
  },
  {
   "cell_type": "code",
   "execution_count": null,
   "metadata": {},
   "outputs": [],
   "source": []
  },
  {
   "cell_type": "code",
   "execution_count": null,
   "metadata": {},
   "outputs": [],
   "source": []
  },
  {
   "cell_type": "code",
   "execution_count": null,
   "metadata": {},
   "outputs": [],
   "source": []
  }
 ],
 "metadata": {
  "kernelspec": {
   "display_name": "Python 3",
   "language": "python",
   "name": "python3"
  },
  "language_info": {
   "codemirror_mode": {
    "name": "ipython",
    "version": 3
   },
   "file_extension": ".py",
   "mimetype": "text/x-python",
   "name": "python",
   "nbconvert_exporter": "python",
   "pygments_lexer": "ipython3",
   "version": "3.6.4"
  }
 },
 "nbformat": 4,
 "nbformat_minor": 2
}
